{
 "cells": [
  {
   "cell_type": "code",
   "execution_count": 11,
   "metadata": {},
   "outputs": [],
   "source": [
    "import math\n",
    "import os\n",
    "import sys\n",
    "import time\n",
    "from queue import PriorityQueue"
   ]
  },
  {
   "cell_type": "code",
   "execution_count": 12,
   "metadata": {},
   "outputs": [],
   "source": [
    "class Tablero:\n",
    "    def __init__(self, estados):\n",
    "        self.estados = estados\n",
    "        #self.tamano = int(math.sqrt(len(estados)))\n",
    "        self.alto = 3\n",
    "        self.ancho = 5\n",
    "#         longitud = len(estados)\n",
    "#         div = []\n",
    "#         raiz = math.sqrt(longitud)\n",
    "#         if (raiz == int(raiz)):\n",
    "#             self.alto = int(raiz)\n",
    "#             self.ancho = int(raiz)\n",
    "#             print(self.alto)\n",
    "#             print(self.ancho)\n",
    "#         else: \n",
    "#             for divisor in range (1, longitud+1):\n",
    "#                 if (longitud % divisor) == 0:\n",
    "#                     div.append(divisor)\n",
    "#             print (div)    \n",
    "#             if(len(div)>2):\n",
    "#                 self.alto = div[int(len(div)/2)-1]\n",
    "#                 self.ancho = div[int(len(div)/2)]\n",
    "#                 print(self.alto)\n",
    "#                 print(self.ancho)\n",
    "#             else:\n",
    "#                 print ('Número de valores no aceptado')\n",
    "#                 self.estados = estados\n",
    "\n",
    "    def ejecutar_accion(self, accion):\n",
    "        nuevos_estados = self.estados[:]\n",
    "        indice_vacio = nuevos_estados.index('0')\n",
    "        if accion == 'I':\n",
    "            if indice_vacio % self.ancho > 0:\n",
    "                nuevos_estados[indice_vacio - 1], nuevos_estados[indice_vacio] = nuevos_estados[indice_vacio], nuevos_estados[indice_vacio - 1]\n",
    "        if accion == 'D':\n",
    "            if indice_vacio % self.ancho < (self.ancho - 1):\n",
    "                nuevos_estados[indice_vacio + 1], nuevos_estados[indice_vacio] = nuevos_estados[indice_vacio], nuevos_estados[indice_vacio + 1]\n",
    "        if accion == 'S':\n",
    "            if indice_vacio - self.ancho >= 0:\n",
    "                nuevos_estados[indice_vacio - self.ancho], nuevos_estados[indice_vacio] = nuevos_estados[indice_vacio], nuevos_estados[\n",
    "                    indice_vacio - self.ancho]\n",
    "        if accion == 'B':\n",
    "            if indice_vacio + self.ancho < self.ancho * self.alto:\n",
    "                nuevos_estados[indice_vacio + self.ancho], nuevos_estados[indice_vacio] = nuevos_estados[indice_vacio], nuevos_estados[\n",
    "                    indice_vacio + self.ancho]\n",
    "        return Tablero(nuevos_estados)"
   ]
  },
  {
   "cell_type": "code",
   "execution_count": 13,
   "metadata": {},
   "outputs": [],
   "source": [
    "class Nodo:\n",
    "    def __init__(self, estado, padre, accion):\n",
    "        self.estado = estado\n",
    "        self.padre = padre\n",
    "        self.accion = accion\n",
    "#         self.costo = costo\n",
    "    def __repr__(self):\n",
    "        return str(self.estado.estados)\n",
    "\n",
    "    def __eq__(self, otro):\n",
    "        return self.estado.estados == otro.estado.estados\n",
    "\n",
    "    def __hash__(self):\n",
    "        return hash(self.estado)"
   ]
  },
  {
   "cell_type": "code",
   "execution_count": 14,
   "metadata": {},
   "outputs": [],
   "source": [
    "def get_hijos(padre_Nodo):\n",
    "    hijos = []\n",
    "    accions = ['I', 'D', 'S', 'B']\n",
    "    for accion in accions:\n",
    "        hijo_estado = padre_Nodo.estado.ejecutar_accion(accion)\n",
    "        hijo_Nodo = Nodo(hijo_estado, padre_Nodo, accion)\n",
    "        hijos.append(hijo_Nodo)\n",
    "    return hijos"
   ]
  },
  {
   "cell_type": "code",
   "execution_count": 15,
   "metadata": {},
   "outputs": [],
   "source": [
    "def gcalc(Nodo):\n",
    "    ''' calcula g(n): encuentra el costo del estado actual a partir del estado origen o inicial'''\n",
    "    contador = 0\n",
    "    while Nodo.padre is not None:\n",
    "        Nodo = Nodo.padre\n",
    "        contador += 1\n",
    "    return contador"
   ]
  },
  {
   "cell_type": "code",
   "execution_count": 16,
   "metadata": {},
   "outputs": [],
   "source": [
    "def hamming(estados):\n",
    "    ''' heuristicaa Hamming: cuenta el numero de posiciones erroneas en diferentes estados'''\n",
    "    numero_indices_no_ubicados = 0\n",
    "    objetivo_estados = ['1', '2', '3', '4', '5', '6', '7', '8', '9', '10', '11', '12', '13', '14', '0']\n",
    "    for i in objetivo_estados:\n",
    "        if objetivo_estados.index(i) - estados.index(i) != 0 and i != 0:\n",
    "            numero_indices_no_ubicados += 1\n",
    "    return numero_indices_no_ubicados\n",
    "\n",
    "\n",
    "def manhattan_calculate(estados):\n",
    "    '''heuristica Manhattan: cuenta el numero de cuadros a partir de una ubicacion en relacion a su posicion final'''\n",
    "    contador = 0\n",
    "    for i in range(0, 14):\n",
    "        indice = estados.index(str(i + 1))  # por que el rango inicia en 0\n",
    "        contador += (abs((i / 5) - (indice / 5)) + abs((i % 3) - (indice % 3)))  # %4 es la columna y /4 es la fila\n",
    "    return contador"
   ]
  },
  {
   "cell_type": "code",
   "execution_count": 17,
   "metadata": {},
   "outputs": [],
   "source": [
    "def find_path(Nodo):\n",
    "    '''Devuelve la ruta inversa de un nodo origen'''\n",
    "    path = []\n",
    "    while (Nodo.padre is not None):\n",
    "        path.append(Nodo.accion)\n",
    "        Nodo = Nodo.padre\n",
    "    path.reverse()\n",
    "    return path"
   ]
  },
  {
   "cell_type": "code",
   "execution_count": 18,
   "metadata": {},
   "outputs": [],
   "source": [
    "def goal_test():\n",
    "    return ['1', '2', '3', '4', '5', '6', '7', '8', '9', '10', '11', '12', '13', '14', '0']"
   ]
  },
  {
   "cell_type": "code",
   "execution_count": 19,
   "metadata": {},
   "outputs": [],
   "source": [
    "def astar(estado_inicial, estado_objetivo, heuristica):\n",
    "    '''A* Search Algorithm'''\n",
    "    start_time = time.time()\n",
    "    frontera = list()\n",
    "    contador = 0\n",
    "    visitado = dict()\n",
    "    frontera.append(estado_inicial)\n",
    "    visitado[estado_inicial.estado] = estado_inicial\n",
    "    while frontera:\n",
    "        minim = []\n",
    "        holder = []\n",
    "        for x in frontera:\n",
    "            if heuristica == 0:\n",
    "                minim.append(hamming(x.estado.estados) + gcalc(x))  # This is the F = h + g\n",
    "            elif heuristica == 1:\n",
    "                minim.append(manhattan_calculate(x.estado.estados) + gcalc(x))\n",
    "            holder.append(x)\n",
    "        m = min(minim)  # finds minimum F value\n",
    "        estado_inicial = holder[minim.index(m)]\n",
    "\n",
    "        if estado_inicial.estado.estados == estado_objetivo:  # solution found!\n",
    "            end_time = time.time()\n",
    "            print(\"\\n\\nSolucion:\")\n",
    "            print(\"Movimientos: \" + str(' '.join(find_path(estado_inicial))))\n",
    "            print(\"Numero de nodos expandidos: \" + str(contador))\n",
    "            print(\"Tiempo empleado: \" + str(round((end_time - start_time), 3)))\n",
    "            # print(\"Memory Used: \" + str(sys.gettamanoof(visitado) + sys.gettamanoof(frontera)) + \" kb\")\n",
    "            break\n",
    "\n",
    "        frontera.pop(frontera.index(estado_inicial))\n",
    "        for hijo in get_hijos(estado_inicial):\n",
    "            contador += 1\n",
    "            s = hijo.estado\n",
    "            if s not in visitado or gcalc(hijo) < gcalc(visitado[s]):\n",
    "                visitado[s] = hijo\n",
    "                frontera.append(hijo)\n"
   ]
  },
  {
   "cell_type": "code",
   "execution_count": null,
   "metadata": {},
   "outputs": [
    {
     "name": "stdout",
     "output_type": "stream",
     "text": [
      "Elija la heuristica entre 'H' o 'M' (H es Hamming y M ws Manhattan): H\n"
     ]
    }
   ],
   "source": [
    "def main():\n",
    "    ei = ['7', '0', '2', '4', '5', '1', '12', '3', '8', '9', '6', '11', '13', '14', '10']\n",
    "    # ei = ['0', '15', '14', '4', '5', '6', '7', '8', '9', '10', '11', '12', '13', '1', '2', '3']\n",
    "\n",
    "    heuristica = input(\"Elija la heuristica entre 'H' o 'M' (H es Hamming y M ws Manhattan): \")\n",
    "    if heuristica == 'H':\n",
    "        heuristica = 0\n",
    "    elif heuristica == 'M':\n",
    "        heuristica = 1\n",
    "\n",
    "    max_depth = 10\n",
    "    root = Nodo(Tablero(ei), None, None)\n",
    "    astar(root, goal_test(), heuristica)\n",
    "    frontera = []\n",
    "    frontera.append(root)\n",
    "\n",
    "# Press the green button in the gutter to run the script.\n",
    "if __name__ == '__main__':\n",
    "    main()"
   ]
  },
  {
   "cell_type": "code",
   "execution_count": null,
   "metadata": {},
   "outputs": [],
   "source": []
  }
 ],
 "metadata": {
  "kernelspec": {
   "display_name": "Python 3",
   "language": "python",
   "name": "python3"
  },
  "language_info": {
   "codemirror_mode": {
    "name": "ipython",
    "version": 3
   },
   "file_extension": ".py",
   "mimetype": "text/x-python",
   "name": "python",
   "nbconvert_exporter": "python",
   "pygments_lexer": "ipython3",
   "version": "3.8.5"
  }
 },
 "nbformat": 4,
 "nbformat_minor": 4
}
