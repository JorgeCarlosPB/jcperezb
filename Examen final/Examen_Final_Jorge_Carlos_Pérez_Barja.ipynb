{
  "nbformat": 4,
  "nbformat_minor": 0,
  "metadata": {
    "kernelspec": {
      "display_name": "Python 3",
      "language": "python",
      "name": "python3"
    },
    "language_info": {
      "codemirror_mode": {
        "name": "ipython",
        "version": 3
      },
      "file_extension": ".py",
      "mimetype": "text/x-python",
      "name": "python",
      "nbconvert_exporter": "python",
      "pygments_lexer": "ipython3",
      "version": "3.8.3"
    },
    "toc": {
      "base_numbering": 1,
      "nav_menu": {},
      "number_sections": true,
      "sideBar": true,
      "skip_h1_title": false,
      "title_cell": "Table of Contents",
      "title_sidebar": "Contents",
      "toc_cell": false,
      "toc_position": {
        "height": "calc(100% - 180px)",
        "left": "10px",
        "top": "150px",
        "width": "233.594px"
      },
      "toc_section_display": true,
      "toc_window_display": false
    },
    "colab": {
      "name": "Examen Final Jorge Carlos Pérez Barja.ipynb",
      "provenance": [],
      "machine_shape": "hm"
    },
    "accelerator": "GPU"
  },
  "cells": [
    {
      "cell_type": "markdown",
      "metadata": {
        "id": "SjSaHShckUzl"
      },
      "source": [
        "[![Open In Colab](https://colab.research.google.com/assets/colab-badge.svg)](https://colab.research.google.com/github/sensioai/blog/blob/master/028_pytorch_nn/pytorch_nn.ipynb)"
      ]
    },
    {
      "cell_type": "markdown",
      "metadata": {
        "id": "sYhahjJGkUzm"
      },
      "source": [
        "# Pytorch - Redes Neuronales (Examen final Jorge Carlos Pérez Barja)"
      ]
    },
    {
      "cell_type": "markdown",
      "metadata": {
        "id": "2l4XeG03bVYR"
      },
      "source": [
        "En nuestro caso nos toco un dataset acerca de películas y debemos predecir las notas que tienen un grupo de películas en una página denominada IMDb.\n",
        "\n",
        "·        El modelo debe ser construido utilizando el framework Pytorch.\n",
        "\n",
        "·        Se debe realizar y explicar el preprocesamiento respectivo si así se requiriese.\n",
        "\n",
        "·        El estudiante debe elegir el tipo de modelo (red o perceptrón), la infraestructura, los parámetros e hiperparámetros, y justificar detalladamente su elección y/o decisión.\n",
        "\n",
        "·        Se deben desarrollar todas las métricas que respalden el punto anterior.\n",
        "\n",
        "·        Se debe lograr la precisión y F1 score máximo."
      ]
    },
    {
      "cell_type": "code",
      "metadata": {
        "ExecuteTime": {
          "end_time": "2020-08-15T12:21:45.471625Z",
          "start_time": "2020-08-15T12:21:45.002765Z"
        },
        "id": "NMwMDB_fkUzn"
      },
      "source": [
        "import torch"
      ],
      "execution_count": 2,
      "outputs": []
    },
    {
      "cell_type": "markdown",
      "metadata": {
        "heading_collapsed": true,
        "id": "k_PLxT3GkUzo"
      },
      "source": [
        "## Modelos secuenciales"
      ]
    },
    {
      "cell_type": "markdown",
      "metadata": {
        "hidden": true,
        "id": "PnOLtlmGkUzo"
      },
      "source": [
        "La forma más sencilla de definir una `red neuronal` en `Pytorch` es utilizando la clase `Sequentail`. Esta clase nos permite definir una secuencia de capas, que se aplicarán de manera secuencial (las salidas de una capa serán la entrada de la siguiente). Ésto ya lo conocemos de posts anteriores, ya que es la forma ideal de definir un `Perceptrón Multicapa`."
      ]
    },
    {
      "cell_type": "code",
      "metadata": {
        "ExecuteTime": {
          "end_time": "2020-08-15T12:21:45.486329Z",
          "start_time": "2020-08-15T12:21:45.472624Z"
        },
        "hidden": true,
        "id": "ovSS5SJMkUzo",
        "colab": {
          "base_uri": "https://localhost:8080/"
        },
        "outputId": "4014529c-6928-4c08-8f91-11885cdc8199"
      },
      "source": [
        "D_in, H, D_out =35 , 20, 8\n",
        "\n",
        "model = torch.nn.Sequential(\n",
        "    torch.nn.Linear(D_in, H),\n",
        "    torch.nn.ReLU(),\n",
        "    torch.nn.Linear(H, D_out),\n",
        ")\n",
        "print(model)"
      ],
      "execution_count": 3,
      "outputs": [
        {
          "output_type": "stream",
          "text": [
            "Sequential(\n",
            "  (0): Linear(in_features=35, out_features=20, bias=True)\n",
            "  (1): ReLU()\n",
            "  (2): Linear(in_features=20, out_features=10, bias=True)\n",
            ")\n"
          ],
          "name": "stdout"
        }
      ]
    },
    {
      "cell_type": "markdown",
      "metadata": {
        "hidden": true,
        "id": "P3uK9dSpkUzp"
      },
      "source": [
        "El modelo anterior es un `MLP` con 784 entradas, 100 neuronas en la capa oculta y 10 salidas. Podemos usar este modelo para hacer un clasificador de imágenes con el dataset MNIST. Pero primero, vamos a ver como podemos calcular las salidas del modelo a partir de unas entradas de ejemplo."
      ]
    },
    {
      "cell_type": "code",
      "metadata": {
        "ExecuteTime": {
          "end_time": "2020-08-15T12:21:45.502329Z",
          "start_time": "2020-08-15T12:21:45.487329Z"
        },
        "hidden": true,
        "id": "1QnxSR65kUzp",
        "colab": {
          "base_uri": "https://localhost:8080/"
        },
        "outputId": "9efd5838-4c6c-4a59-aed2-92f3b7da60ec"
      },
      "source": [
        "outputs = model(torch.randn(64, 784))\n",
        "outputs.shape"
      ],
      "execution_count": null,
      "outputs": [
        {
          "output_type": "execute_result",
          "data": {
            "text/plain": [
              "torch.Size([64, 10])"
            ]
          },
          "metadata": {
            "tags": []
          },
          "execution_count": 12
        }
      ]
    },
    {
      "cell_type": "markdown",
      "metadata": {
        "hidden": true,
        "id": "zq_rRcLckUzq"
      },
      "source": [
        "Como puedes ver, simplemente le pasamos los inputs al modelo (llamándolo como una función). En este caso, usamos un tensor con 64 vectores de 784 valores. Es importante remarcar que los modelos de `Pytorch` (por lo general) siempre esperan que la primera dimensión sea la dimensión *batch*. Si queremos entrenar esta red en una GPU, es tan sencillo como"
      ]
    },
    {
      "cell_type": "code",
      "metadata": {
        "ExecuteTime": {
          "end_time": "2020-08-15T12:21:46.777020Z",
          "start_time": "2020-08-15T12:21:45.503329Z"
        },
        "hidden": true,
        "id": "rRDhYcyxkUzq",
        "colab": {
          "base_uri": "https://localhost:8080/"
        },
        "outputId": "d89d323b-bd8d-417d-847d-7bc775a22c7a"
      },
      "source": [
        "#model.to(\"cuda\")"
      ],
      "execution_count": null,
      "outputs": [
        {
          "output_type": "execute_result",
          "data": {
            "text/plain": [
              "Sequential(\n",
              "  (0): Linear(in_features=784, out_features=100, bias=True)\n",
              "  (1): ReLU()\n",
              "  (2): Linear(in_features=100, out_features=10, bias=True)\n",
              ")"
            ]
          },
          "metadata": {
            "tags": []
          },
          "execution_count": 13
        }
      ]
    },
    {
      "cell_type": "markdown",
      "metadata": {
        "hidden": true,
        "id": "-AAwjioukUzq"
      },
      "source": [
        "Vamos a ver ahora como entrenar este modelo con el dataset MNIST."
      ]
    },
    {
      "cell_type": "code",
      "metadata": {
        "ExecuteTime": {
          "end_time": "2020-08-15T12:22:05.622262Z",
          "start_time": "2020-08-15T12:21:46.778019Z"
        },
        "hidden": true,
        "id": "LFiBo1xtkUzr",
        "colab": {
          "base_uri": "https://localhost:8080/"
        },
        "outputId": "8a4adfb9-4f53-4e79-cf5b-e29bd2e44998"
      },
      "source": [
        "# used for manipulating directory paths\n",
        "import os\n",
        "import sklearn\n",
        "# Scientific and vector computation for python\n",
        "import numpy as np\n",
        "from google.colab import drive\n",
        "drive.mount('/content/drive')"
      ],
      "execution_count": null,
      "outputs": [
        {
          "output_type": "execute_result",
          "data": {
            "text/plain": [
              "((70000, 784), (70000,))"
            ]
          },
          "metadata": {
            "tags": []
          },
          "execution_count": 14
        }
      ]
    },
    {
      "cell_type": "code",
      "metadata": {
        "id": "5To-mEbYfjT_"
      },
      "source": [
        "data = np.loadtxt(\"/content/drive/MyDrive/Inteligencia Artificial/Machine learning/Datasets/MACHINE_LEARNING_FINAL.csv\",skiprows=1, delimiter='\\|\\|',dtype=bytes, usecols=[0]).astype(str)\n",
        "datos = np.loadtxt(data, delimiter=';', usecols=[1,2,3,4,5,6,7,8,9,10,11,12,13,14,15,16,17,18,19,20,21,22,23,24,25,26,27,28,29,30,31,32,33,34,35,36])\n",
        "X = np.loadtxt(data, delimiter=';', usecols=[1,3,4,5,6,7,8,9,10,11,12,13,14,15,16,17,18,19,20,21,22,23,24,25,26,27,28,29,30,31,32,33,34,35,36])\n",
        "print(datos.shape)\n",
        "#print(datos)\n",
        "Y=datos[:,2]\n",
        "X.shape, Y.shape"
      ],
      "execution_count": null,
      "outputs": []
    },
    {
      "cell_type": "code",
      "metadata": {
        "ExecuteTime": {
          "end_time": "2020-08-15T12:22:05.761911Z",
          "start_time": "2020-08-15T12:22:05.624102Z"
        },
        "hidden": true,
        "id": "j2LWfzbDkUzr"
      },
      "source": [
        "\n",
        "# # normalización y split\n",
        "# X_train, X_test, y_train, y_test = X[:60000] / 255., X[60000:] / 255., Y[:60000].astype(np.int), Y[60000:].astype(np.int)\n",
        "X_train, X_test, y_train, y_test = X[:3000] , X[3000:] , Y[:3000].astype(np.int), Y[3000:].astype(np.int)\n",
        "X_train.shape , X_test.shape\n",
        "\n",
        "y_train.shape , y_test.shape"
      ],
      "execution_count": null,
      "outputs": []
    },
    {
      "cell_type": "code",
      "metadata": {
        "ExecuteTime": {
          "end_time": "2020-08-15T12:22:05.777964Z",
          "start_time": "2020-08-15T12:22:05.763102Z"
        },
        "hidden": true,
        "id": "erkPphAVkUzr"
      },
      "source": [
        "# función de pérdida y derivada\n",
        "\n",
        "def softmax(x):\n",
        "    return torch.exp(x) / torch.exp(x).sum(axis=-1,keepdims=True)\n",
        "\n",
        "def cross_entropy(output, target):\n",
        "    logits = output[torch.arange(len(output)), target]\n",
        "    loss = - logits + torch.log(torch.sum(torch.exp(output), axis=-1))\n",
        "    loss = loss.mean()\n",
        "    return loss"
      ],
      "execution_count": null,
      "outputs": []
    },
    {
      "cell_type": "code",
      "metadata": {
        "ExecuteTime": {
          "end_time": "2020-08-15T12:22:07.268014Z",
          "start_time": "2020-08-15T12:22:05.778966Z"
        },
        "hidden": true,
        "id": "wYLUCRRckUzr",
        "colab": {
          "base_uri": "https://localhost:8080/"
        },
        "outputId": "b3fc2c97-514a-4c69-eaa7-dc7311a152fc"
      },
      "source": [
        "# convertimos datos a tensores y copiamos en gpu\n",
        "X_t = torch.from_numpy(X_train).float().cuda()\n",
        "Y_t = torch.from_numpy(y_train).long().cuda()\n",
        "\n",
        "# bucle entrenamiento\n",
        "epochs = 100\n",
        "lr = 0.8\n",
        "log_each = 10\n",
        "l = []\n",
        "for e in range(1, epochs+1): \n",
        "    \n",
        "    # forward\n",
        "    y_pred = model(X_t)\n",
        "\n",
        "    # loss\n",
        "    loss = cross_entropy(y_pred, Y_t)\n",
        "    l.append(loss.item())\n",
        "    \n",
        "    # ponemos a cero los gradientes\n",
        "    model.zero_grad()\n",
        "\n",
        "    # Backprop (calculamos todos los gradientes automáticamente)\n",
        "    loss.backward()\n",
        "\n",
        "    # update de los pesos\n",
        "    with torch.no_grad():\n",
        "        for param in model.parameters():\n",
        "            param -= lr * param.grad\n",
        "    \n",
        "    if not e % log_each:\n",
        "        print(f\"Epoch {e}/{epochs} Loss {np.mean(l):.5f}\")"
      ],
      "execution_count": null,
      "outputs": [
        {
          "output_type": "stream",
          "text": [
            "Epoch 10/100 Loss 1.76380\n",
            "Epoch 20/100 Loss 1.54751\n",
            "Epoch 30/100 Loss 1.24620\n",
            "Epoch 40/100 Loss 1.06159\n",
            "Epoch 50/100 Loss 0.93045\n",
            "Epoch 60/100 Loss 0.84029\n",
            "Epoch 70/100 Loss 0.76547\n",
            "Epoch 80/100 Loss 0.70578\n",
            "Epoch 90/100 Loss 0.65771\n",
            "Epoch 100/100 Loss 0.61810\n"
          ],
          "name": "stdout"
        }
      ]
    },
    {
      "cell_type": "markdown",
      "metadata": {
        "hidden": true,
        "id": "OWI2CMQlkUzs"
      },
      "source": [
        "Como puedes observar en el ejemplo, podemos calcular la salida del modelo con una simple línea. Luego calculamos la función de pérdida, y llamando a la función `backward` `Pytorch` se encarga de calcular las derivadas de la misma con respecto a todos los parámetros del modelo automáticamente (si no queremos acumular estos gradientes, nos aseguramos de llamar a la función `zero_grad` para ponerlos a cero antes de calcularlos). Por útlimo, podemos iterar por los parámetros del modelo aplicando la regla de actualización deseada (en este caso usamos `descenso por gradiente`)."
      ]
    },
    {
      "cell_type": "code",
      "metadata": {
        "ExecuteTime": {
          "end_time": "2020-08-15T12:22:07.312014Z",
          "start_time": "2020-08-15T12:22:07.270016Z"
        },
        "hidden": true,
        "id": "fEyyvA66kUzs",
        "colab": {
          "base_uri": "https://localhost:8080/"
        },
        "outputId": "5473f878-0d57-4eb2-ea1f-f23b0a1d67ac"
      },
      "source": [
        "from sklearn.metrics import accuracy_score\n",
        "\n",
        "def evaluate(x):\n",
        "    model.eval()\n",
        "    y_pred = model(x)\n",
        "    y_probas = softmax(y_pred)\n",
        "    return torch.argmax(y_probas, axis=1)\n",
        "\n",
        "y_pred = evaluate(torch.from_numpy(X_test).float().cuda())\n",
        "accuracy_score(y_test, y_pred.cpu().numpy())"
      ],
      "execution_count": null,
      "outputs": [
        {
          "output_type": "execute_result",
          "data": {
            "text/plain": [
              "0.9291"
            ]
          },
          "metadata": {
            "tags": []
          },
          "execution_count": 23
        }
      ]
    },
    {
      "cell_type": "markdown",
      "metadata": {
        "hidden": true,
        "id": "tBXM_t5KkUzs"
      },
      "source": [
        "Existen algunos tipos de capas que se comportan diferente en función de si estamos entrenando la red o usándola para generar predicciones. Podemos controlar el modo en el que queremos que esté nuestra red con las funciones `train` y `eval`."
      ]
    },
    {
      "cell_type": "markdown",
      "metadata": {
        "heading_collapsed": true,
        "id": "5x9kspMtkUzs"
      },
      "source": [
        "## Optimizadores y Funciones de pérdida"
      ]
    },
    {
      "cell_type": "markdown",
      "metadata": {
        "hidden": true,
        "id": "0C3GakJEkUzt"
      },
      "source": [
        "En el ejemplo anterior hemos calculado la función de pérdida y aplicado la regla de optimización de forma manual. Sin embargo, `Pytorch` nos ofrece funcionalidad que nos abstrae estos cálculos ofreciendo además flexibilidad para aplicar diferentes funciones de pérdida o algoritmos de optimización de manera sencilla. Podemos encontrar diferentes funciones de pérdida ya implementadas en el paquete `torch.nn`."
      ]
    },
    {
      "cell_type": "code",
      "metadata": {
        "ExecuteTime": {
          "end_time": "2020-08-15T12:22:07.328014Z",
          "start_time": "2020-08-15T12:22:07.313014Z"
        },
        "hidden": true,
        "id": "y6ZcqdYRkUzt"
      },
      "source": [
        "criterion = torch.nn.CrossEntropyLoss()"
      ],
      "execution_count": null,
      "outputs": []
    },
    {
      "cell_type": "markdown",
      "metadata": {
        "hidden": true,
        "id": "23OHX5mqkUzt"
      },
      "source": [
        "Mientras que los optimizadores se encuentran en el paquete `torch.optim`"
      ]
    },
    {
      "cell_type": "code",
      "metadata": {
        "ExecuteTime": {
          "end_time": "2020-08-15T12:22:07.343013Z",
          "start_time": "2020-08-15T12:22:07.330016Z"
        },
        "hidden": true,
        "id": "H6_AXV9YkUzt"
      },
      "source": [
        "optimizer = torch.optim.SGD(model.parameters(), lr=0.8)"
      ],
      "execution_count": null,
      "outputs": []
    },
    {
      "cell_type": "markdown",
      "metadata": {
        "hidden": true,
        "id": "dTY-Xq5ekUzt"
      },
      "source": [
        "Puedes ver la lista completa de funciones de pérdida y optimizadores disponibles en la [documentación](https://pytorch.org/docs/stable/index.html), aunque como ya has visto siempre puedes definir los tuyos propios fácilmente. \n",
        "\n",
        "Una vez definidos estos dos objetos, nuestro bucle de entrenamiento se simplifica considerablemente."
      ]
    },
    {
      "cell_type": "code",
      "metadata": {
        "ExecuteTime": {
          "end_time": "2020-08-15T12:22:08.626592Z",
          "start_time": "2020-08-15T12:22:07.344013Z"
        },
        "code_folding": [
          0
        ],
        "hidden": true,
        "id": "z8cws5BHkUzt",
        "colab": {
          "base_uri": "https://localhost:8080/"
        },
        "outputId": "22fbc777-cd52-41b2-fefc-cf61482e43f8"
      },
      "source": [
        "model = torch.nn.Sequential(\n",
        "    torch.nn.Linear(D_in, H),\n",
        "    torch.nn.ReLU(),\n",
        "    torch.nn.Linear(H, D_out),\n",
        ").to(\"cuda\")\n",
        "\n",
        "criterion = torch.nn.CrossEntropyLoss()\n",
        "optimizer = torch.optim.SGD(model.parameters(), lr=0.8)\n",
        "\n",
        "epochs = 100\n",
        "log_each = 10\n",
        "l = []\n",
        "model.train()\n",
        "for e in range(1, epochs+1): \n",
        "    \n",
        "    # forward\n",
        "    y_pred = model(X_t)\n",
        "\n",
        "    # loss\n",
        "    loss = criterion(y_pred, Y_t)\n",
        "    l.append(loss.item())\n",
        "    \n",
        "    # ponemos a cero los gradientes\n",
        "    optimizer.zero_grad()\n",
        "\n",
        "    # Backprop (calculamos todos los gradientes automáticamente)\n",
        "    loss.backward()\n",
        "\n",
        "    # update de los pesos\n",
        "    optimizer.step()\n",
        "    \n",
        "    if not e % log_each:\n",
        "        print(f\"Epoch {e}/{epochs} Loss {np.mean(l):.5f}\")\n",
        "        \n",
        "y_pred = evaluate(torch.from_numpy(X_test).float().cuda())\n",
        "accuracy_score(y_test, y_pred.cpu().numpy())"
      ],
      "execution_count": null,
      "outputs": [
        {
          "output_type": "stream",
          "text": [
            "Epoch 10/100 Loss 1.64787\n",
            "Epoch 20/100 Loss 1.52765\n",
            "Epoch 30/100 Loss 1.25656\n",
            "Epoch 40/100 Loss 1.08139\n",
            "Epoch 50/100 Loss 0.95054\n",
            "Epoch 60/100 Loss 0.84715\n",
            "Epoch 70/100 Loss 0.77140\n",
            "Epoch 80/100 Loss 0.71515\n",
            "Epoch 90/100 Loss 0.66624\n",
            "Epoch 100/100 Loss 0.62576\n"
          ],
          "name": "stdout"
        },
        {
          "output_type": "execute_result",
          "data": {
            "text/plain": [
              "0.9291"
            ]
          },
          "metadata": {
            "tags": []
          },
          "execution_count": 22
        }
      ]
    },
    {
      "cell_type": "markdown",
      "metadata": {
        "heading_collapsed": true,
        "id": "cu9BTBK7kUzt"
      },
      "source": [
        "## Modelos custom"
      ]
    },
    {
      "cell_type": "markdown",
      "metadata": {
        "hidden": true,
        "id": "Ns7neASskUzu"
      },
      "source": [
        "Si bien en muchos casos definir una `red neuronal` como una secuencia de capas es suficiente, en otros casos será un factor limitante. Un ejemplo son las redes residuales, en las que no sólo utilizamos la salida de una capa para alimentar la siguiente si no que, además, le sumamos su propia entrada. Este tipo de arquitectura no puede ser definida con la clase `Sequential`, y para ello necesitamos hacer un modelo *customizado*. Para ello, `Pytroch` nos ofrece la siguiente sintaxis."
      ]
    },
    {
      "cell_type": "code",
      "metadata": {
        "ExecuteTime": {
          "end_time": "2020-08-15T12:22:08.642713Z",
          "start_time": "2020-08-15T12:22:08.628592Z"
        },
        "hidden": true,
        "id": "nnOjJs2dkUzu"
      },
      "source": [
        "# creamos una clase que hereda de `torch.nn.Module`\n",
        "\n",
        "class Model(torch.nn.Module):\n",
        "    \n",
        "    # constructor\n",
        "    def __init__(self, D_in, H1, H2, D_out):\n",
        "        \n",
        "        # llamamos al constructor de la clase madre\n",
        "        super(Model, self).__init__()\n",
        "        \n",
        "        # definimos nuestras capas\n",
        "        self.fc1 = torch.nn.Linear(D_in, H1)\n",
        "        self.relu1 = torch.nn.ReLU()\n",
        "        self.fc2 = torch.nn.Linear(H1, H2)\n",
        "        self.relu2 = torch.nn.ReLU()\n",
        "        self.fc3 = torch.nn.Linear(H2, D_out)\n",
        "        \n",
        "    # lógica para calcular las salidas de la red\n",
        "    def forward(self, x):\n",
        "        x = self.fc1(x)\n",
        "        x = self.relu1(x)\n",
        "        x = self.fc2(x)\n",
        "        x = self.relu2(x)\n",
        "        x = self.fc3(x)\n",
        "        return x"
      ],
      "execution_count": null,
      "outputs": []
    },
    {
      "cell_type": "markdown",
      "metadata": {
        "hidden": true,
        "id": "i3oCmMm-kUzu"
      },
      "source": [
        "En primer lugar, necesitamos definir una nueva clase que herede de la clase `torch.nn.Module`. Esta clase madre aportará toda la funcionalidad esencial que necesita una `red neuronal` (soporte GPU, iterar por sus parámeteros, etc). Luego, en esta clase necesitamos definir mínimos dos funciones: \n",
        "\n",
        "- `init`: en el constructor llamaremos al constructor de la clase madre y después definiremos todas las capas que querramos usar en la red.\n",
        "- `forward`: en esta función definimos toda la lógica que aplicaremos desde que recibimos los inputs hasta que devolvemos los outputs.\n",
        "\n",
        "En el ejemplo anterior simplemente hemos replicado la misma red (puedes conseguir el mismo efecto usando la clase `Sequential`)."
      ]
    },
    {
      "cell_type": "code",
      "metadata": {
        "ExecuteTime": {
          "end_time": "2020-08-15T12:22:08.658711Z",
          "start_time": "2020-08-15T12:22:08.644712Z"
        },
        "hidden": true,
        "id": "SFBRKjL5kUzu",
        "colab": {
          "base_uri": "https://localhost:8080/"
        },
        "outputId": "ef864723-515e-4759-9344-bd141eac6640"
      },
      "source": [
        "model = Model(35, 50, 100, 8)\n",
        "outputs = model(torch.randn(64, 784))\n",
        "outputs.shape"
      ],
      "execution_count": null,
      "outputs": [
        {
          "output_type": "execute_result",
          "data": {
            "text/plain": [
              "torch.Size([64, 10])"
            ]
          },
          "metadata": {
            "tags": []
          },
          "execution_count": 41
        }
      ]
    },
    {
      "cell_type": "code",
      "metadata": {
        "id": "nF5F94prz7d-",
        "colab": {
          "base_uri": "https://localhost:8080/"
        },
        "outputId": "2e068024-0a1b-4f0e-b8d8-13c9c387300d"
      },
      "source": [
        "model"
      ],
      "execution_count": null,
      "outputs": [
        {
          "output_type": "execute_result",
          "data": {
            "text/plain": [
              "Model(\n",
              "  (fc1): Linear(in_features=784, out_features=50, bias=True)\n",
              "  (relu1): ReLU()\n",
              "  (fc2): Linear(in_features=50, out_features=100, bias=True)\n",
              "  (relu2): ReLU()\n",
              "  (fc3): Linear(in_features=100, out_features=10, bias=True)\n",
              ")"
            ]
          },
          "metadata": {
            "tags": []
          },
          "execution_count": 42
        }
      ]
    },
    {
      "cell_type": "markdown",
      "metadata": {
        "hidden": true,
        "id": "csPJXD7PkUzu"
      },
      "source": [
        "Ahora, podemos entrenar nuestra red de la misma forma que lo hemos hecho anteriormente."
      ]
    },
    {
      "cell_type": "code",
      "metadata": {
        "ExecuteTime": {
          "end_time": "2020-08-15T12:22:09.941710Z",
          "start_time": "2020-08-15T12:22:08.659711Z"
        },
        "hidden": true,
        "id": "3M9NEIIykUzu",
        "colab": {
          "base_uri": "https://localhost:8080/"
        },
        "outputId": "e640ffe3-cb1c-4fd2-f070-21b1fede8b47"
      },
      "source": [
        "model.to(\"cuda\")\n",
        "criterion = torch.nn.CrossEntropyLoss()\n",
        "optimizer = torch.optim.SGD(model.parameters(), lr=0.08)\n",
        "\n",
        "epochs = 1500\n",
        "log_each = 10\n",
        "l = []\n",
        "model.train()\n",
        "for e in range(1, epochs+1): \n",
        "    \n",
        "    # forward\n",
        "    y_pred = model(X_t)\n",
        "\n",
        "    # loss\n",
        "    loss = criterion(y_pred, Y_t)\n",
        "    l.append(loss.item())\n",
        "    \n",
        "    # ponemos a cero los gradientes\n",
        "    optimizer.zero_grad()\n",
        "\n",
        "    # Backprop (calculamos todos los gradientes automáticamente)\n",
        "    loss.backward()\n",
        "\n",
        "    # update de los pesos\n",
        "    optimizer.step()\n",
        "    \n",
        "    if not e % log_each:\n",
        "        print(f\"Epoch {e}/{epochs} Loss {np.mean(l):.5f}\")\n",
        "        \n",
        "y_pred = evaluate(torch.from_numpy(X_test).float().cuda())\n",
        "accuracy_score(y_test, y_pred.cpu().numpy())"
      ],
      "execution_count": null,
      "outputs": [
        {
          "output_type": "stream",
          "text": [
            "Epoch 10/1500 Loss 0.31638\n",
            "Epoch 20/1500 Loss 0.31542\n",
            "Epoch 30/1500 Loss 0.31448\n",
            "Epoch 40/1500 Loss 0.31355\n",
            "Epoch 50/1500 Loss 0.31264\n",
            "Epoch 60/1500 Loss 0.31175\n",
            "Epoch 70/1500 Loss 0.31087\n",
            "Epoch 80/1500 Loss 0.31000\n",
            "Epoch 90/1500 Loss 0.30914\n",
            "Epoch 100/1500 Loss 0.30829\n",
            "Epoch 110/1500 Loss 0.30746\n",
            "Epoch 120/1500 Loss 0.30664\n",
            "Epoch 130/1500 Loss 0.30583\n",
            "Epoch 140/1500 Loss 0.30502\n",
            "Epoch 150/1500 Loss 0.30423\n",
            "Epoch 160/1500 Loss 0.30344\n",
            "Epoch 170/1500 Loss 0.30266\n",
            "Epoch 180/1500 Loss 0.30190\n",
            "Epoch 190/1500 Loss 0.30113\n",
            "Epoch 200/1500 Loss 0.30038\n",
            "Epoch 210/1500 Loss 0.29963\n",
            "Epoch 220/1500 Loss 0.29889\n",
            "Epoch 230/1500 Loss 0.29816\n",
            "Epoch 240/1500 Loss 0.29744\n",
            "Epoch 250/1500 Loss 0.29672\n",
            "Epoch 260/1500 Loss 0.29600\n",
            "Epoch 270/1500 Loss 0.29530\n",
            "Epoch 280/1500 Loss 0.29460\n",
            "Epoch 290/1500 Loss 0.29390\n",
            "Epoch 300/1500 Loss 0.29321\n",
            "Epoch 310/1500 Loss 0.29253\n",
            "Epoch 320/1500 Loss 0.29185\n",
            "Epoch 330/1500 Loss 0.29118\n",
            "Epoch 340/1500 Loss 0.29051\n",
            "Epoch 350/1500 Loss 0.28984\n",
            "Epoch 360/1500 Loss 0.28918\n",
            "Epoch 370/1500 Loss 0.28853\n",
            "Epoch 380/1500 Loss 0.28788\n",
            "Epoch 390/1500 Loss 0.28723\n",
            "Epoch 400/1500 Loss 0.28659\n",
            "Epoch 410/1500 Loss 0.28596\n",
            "Epoch 420/1500 Loss 0.28532\n",
            "Epoch 430/1500 Loss 0.28469\n",
            "Epoch 440/1500 Loss 0.28407\n",
            "Epoch 450/1500 Loss 0.28345\n",
            "Epoch 460/1500 Loss 0.28283\n",
            "Epoch 470/1500 Loss 0.28222\n",
            "Epoch 480/1500 Loss 0.28161\n",
            "Epoch 490/1500 Loss 0.28100\n",
            "Epoch 500/1500 Loss 0.28040\n",
            "Epoch 510/1500 Loss 0.27980\n",
            "Epoch 520/1500 Loss 0.27920\n",
            "Epoch 530/1500 Loss 0.27860\n",
            "Epoch 540/1500 Loss 0.27801\n",
            "Epoch 550/1500 Loss 0.27742\n",
            "Epoch 560/1500 Loss 0.27684\n",
            "Epoch 570/1500 Loss 0.27625\n",
            "Epoch 580/1500 Loss 0.27567\n",
            "Epoch 590/1500 Loss 0.27509\n",
            "Epoch 600/1500 Loss 0.27452\n",
            "Epoch 610/1500 Loss 0.27394\n",
            "Epoch 620/1500 Loss 0.27337\n",
            "Epoch 630/1500 Loss 0.27281\n",
            "Epoch 640/1500 Loss 0.27224\n",
            "Epoch 650/1500 Loss 0.27168\n",
            "Epoch 660/1500 Loss 0.27111\n",
            "Epoch 670/1500 Loss 0.27056\n",
            "Epoch 680/1500 Loss 0.27000\n",
            "Epoch 690/1500 Loss 0.26945\n",
            "Epoch 700/1500 Loss 0.26889\n",
            "Epoch 710/1500 Loss 0.26834\n",
            "Epoch 720/1500 Loss 0.26780\n",
            "Epoch 730/1500 Loss 0.26725\n",
            "Epoch 740/1500 Loss 0.26671\n",
            "Epoch 750/1500 Loss 0.26617\n",
            "Epoch 760/1500 Loss 0.26563\n",
            "Epoch 770/1500 Loss 0.26509\n",
            "Epoch 780/1500 Loss 0.26456\n",
            "Epoch 790/1500 Loss 0.26403\n",
            "Epoch 800/1500 Loss 0.26350\n",
            "Epoch 810/1500 Loss 0.26297\n",
            "Epoch 820/1500 Loss 0.26244\n",
            "Epoch 830/1500 Loss 0.26192\n",
            "Epoch 840/1500 Loss 0.26140\n",
            "Epoch 850/1500 Loss 0.26088\n",
            "Epoch 860/1500 Loss 0.26036\n",
            "Epoch 870/1500 Loss 0.25984\n",
            "Epoch 880/1500 Loss 0.25933\n",
            "Epoch 890/1500 Loss 0.25882\n",
            "Epoch 900/1500 Loss 0.25831\n",
            "Epoch 910/1500 Loss 0.25780\n",
            "Epoch 920/1500 Loss 0.25729\n",
            "Epoch 930/1500 Loss 0.25679\n",
            "Epoch 940/1500 Loss 0.25629\n",
            "Epoch 950/1500 Loss 0.25579\n",
            "Epoch 960/1500 Loss 0.25529\n",
            "Epoch 970/1500 Loss 0.25479\n",
            "Epoch 980/1500 Loss 0.25430\n",
            "Epoch 990/1500 Loss 0.25381\n",
            "Epoch 1000/1500 Loss 0.25332\n",
            "Epoch 1010/1500 Loss 0.25283\n",
            "Epoch 1020/1500 Loss 0.25234\n",
            "Epoch 1030/1500 Loss 0.25186\n",
            "Epoch 1040/1500 Loss 0.25138\n",
            "Epoch 1050/1500 Loss 0.25090\n",
            "Epoch 1060/1500 Loss 0.25042\n",
            "Epoch 1070/1500 Loss 0.24994\n",
            "Epoch 1080/1500 Loss 0.24946\n",
            "Epoch 1090/1500 Loss 0.24899\n",
            "Epoch 1100/1500 Loss 0.24852\n",
            "Epoch 1110/1500 Loss 0.24805\n",
            "Epoch 1120/1500 Loss 0.24758\n",
            "Epoch 1130/1500 Loss 0.24711\n",
            "Epoch 1140/1500 Loss 0.24664\n",
            "Epoch 1150/1500 Loss 0.24618\n",
            "Epoch 1160/1500 Loss 0.24572\n",
            "Epoch 1170/1500 Loss 0.24526\n",
            "Epoch 1180/1500 Loss 0.24480\n",
            "Epoch 1190/1500 Loss 0.24434\n",
            "Epoch 1200/1500 Loss 0.24388\n",
            "Epoch 1210/1500 Loss 0.24343\n",
            "Epoch 1220/1500 Loss 0.24298\n",
            "Epoch 1230/1500 Loss 0.24253\n",
            "Epoch 1240/1500 Loss 0.24208\n",
            "Epoch 1250/1500 Loss 0.24163\n",
            "Epoch 1260/1500 Loss 0.24118\n",
            "Epoch 1270/1500 Loss 0.24074\n",
            "Epoch 1280/1500 Loss 0.24030\n",
            "Epoch 1290/1500 Loss 0.23985\n",
            "Epoch 1300/1500 Loss 0.23941\n",
            "Epoch 1310/1500 Loss 0.23898\n",
            "Epoch 1320/1500 Loss 0.23854\n",
            "Epoch 1330/1500 Loss 0.23811\n",
            "Epoch 1340/1500 Loss 0.23767\n",
            "Epoch 1350/1500 Loss 0.23724\n",
            "Epoch 1360/1500 Loss 0.23681\n",
            "Epoch 1370/1500 Loss 0.23638\n",
            "Epoch 1380/1500 Loss 0.23596\n",
            "Epoch 1390/1500 Loss 0.23553\n",
            "Epoch 1400/1500 Loss 0.23511\n",
            "Epoch 1410/1500 Loss 0.23468\n",
            "Epoch 1420/1500 Loss 0.23426\n",
            "Epoch 1430/1500 Loss 0.23385\n",
            "Epoch 1440/1500 Loss 0.23343\n",
            "Epoch 1450/1500 Loss 0.23301\n",
            "Epoch 1460/1500 Loss 0.23260\n",
            "Epoch 1470/1500 Loss 0.23219\n",
            "Epoch 1480/1500 Loss 0.23178\n",
            "Epoch 1490/1500 Loss 0.23137\n",
            "Epoch 1500/1500 Loss 0.23096\n"
          ],
          "name": "stdout"
        },
        {
          "output_type": "execute_result",
          "data": {
            "text/plain": [
              "0.9478"
            ]
          },
          "metadata": {
            "tags": []
          },
          "execution_count": 33
        }
      ]
    },
    {
      "cell_type": "markdown",
      "metadata": {
        "hidden": true,
        "id": "yTHyzmGvkUzu"
      },
      "source": [
        "Aquí puedes ver otro ejemplo de como definir un `MLP` con conexiones residuales, algo que no podemos hacer simplemente usando un modelo secuencial."
      ]
    },
    {
      "cell_type": "code",
      "metadata": {
        "ExecuteTime": {
          "end_time": "2020-08-15T12:22:09.956710Z",
          "start_time": "2020-08-15T12:22:09.942710Z"
        },
        "hidden": true,
        "id": "DqOzaldXkUzv"
      },
      "source": [
        "class Model(torch.nn.Module):\n",
        "    \n",
        "    def __init__(self, D_in, H, D_out):        \n",
        "        super(Model, self).__init__()\n",
        "        self.fc1 = torch.nn.Linear(D_in, H)\n",
        "        self.relu = torch.nn.ReLU()\n",
        "        self.fc2 = torch.nn.Linear(H, D_out)\n",
        "        \n",
        "    def forward(self, x):\n",
        "        x1 = self.fc1(x)\n",
        "        x = self.relu(x1)\n",
        "        x = self.fc2(x + x1)\n",
        "        return x"
      ],
      "execution_count": null,
      "outputs": []
    },
    {
      "cell_type": "code",
      "metadata": {
        "ExecuteTime": {
          "end_time": "2020-08-15T12:22:11.314772Z",
          "start_time": "2020-08-15T12:22:09.958712Z"
        },
        "hidden": true,
        "id": "Lzbtgp63kUzv",
        "colab": {
          "base_uri": "https://localhost:8080/"
        },
        "outputId": "762be429-b2ad-42e3-a6c5-4d7ea030a903"
      },
      "source": [
        "model = Model(784, 100, 10).to(\"cuda\")\n",
        "criterion = torch.nn.CrossEntropyLoss()\n",
        "optimizer = torch.optim.SGD(model.parameters(), lr=0.2)\n",
        "\n",
        "epochs = 100\n",
        "log_each = 10\n",
        "l = []\n",
        "model.train()\n",
        "for e in range(1, epochs+1): \n",
        "    \n",
        "    # forward\n",
        "    y_pred = model(X_t)\n",
        "\n",
        "    # loss\n",
        "    loss = criterion(y_pred, Y_t)\n",
        "    l.append(loss.item())\n",
        "    \n",
        "    # ponemos a cero los gradientes\n",
        "    optimizer.zero_grad()\n",
        "\n",
        "    # Backprop (calculamos todos los gradientes automáticamente)\n",
        "    loss.backward()\n",
        "\n",
        "    # update de los pesos\n",
        "    optimizer.step()\n",
        "    \n",
        "    if not e % log_each:\n",
        "        print(f\"Epoch {e}/{epochs} Loss {np.mean(l):.5f}\")\n",
        "        \n",
        "y_pred = evaluate(torch.from_numpy(X_test).float().cuda())\n",
        "accuracy_score(y_test, y_pred.cpu().numpy())"
      ],
      "execution_count": null,
      "outputs": [
        {
          "output_type": "stream",
          "text": [
            "Epoch 10/100 Loss 1.55528\n",
            "Epoch 20/100 Loss 1.13870\n",
            "Epoch 30/100 Loss 0.93603\n",
            "Epoch 40/100 Loss 0.82037\n",
            "Epoch 50/100 Loss 0.75428\n",
            "Epoch 60/100 Loss 0.69445\n",
            "Epoch 70/100 Loss 0.64970\n",
            "Epoch 80/100 Loss 0.61459\n",
            "Epoch 90/100 Loss 0.58544\n",
            "Epoch 100/100 Loss 0.56093\n"
          ],
          "name": "stdout"
        },
        {
          "output_type": "execute_result",
          "data": {
            "text/plain": [
              "0.91"
            ]
          },
          "metadata": {
            "tags": []
          },
          "execution_count": 35
        }
      ]
    },
    {
      "cell_type": "markdown",
      "metadata": {
        "hidden": true,
        "id": "qryo4YsWkUzv"
      },
      "source": [
        "De esta manera, tenemos mucha flexibilidad para definir nuestras redes."
      ]
    },
    {
      "cell_type": "markdown",
      "metadata": {
        "heading_collapsed": true,
        "id": "tHq7HZTDkUzv"
      },
      "source": [
        "## Accediendo a las capas de una red"
      ]
    },
    {
      "cell_type": "markdown",
      "metadata": {
        "hidden": true,
        "id": "jGcFQsUBkUzv"
      },
      "source": [
        "En ocasiones queremos acceder a una capa en particular de nuestra red. Para ello, podemos acceder utilizando su nombre."
      ]
    },
    {
      "cell_type": "code",
      "metadata": {
        "ExecuteTime": {
          "end_time": "2020-08-15T12:22:11.329809Z",
          "start_time": "2020-08-15T12:22:11.316772Z"
        },
        "hidden": true,
        "id": "sepVB8Y1kUzv",
        "colab": {
          "base_uri": "https://localhost:8080/"
        },
        "outputId": "aee573f6-02fb-4d30-dd3c-0d97ca0e775d"
      },
      "source": [
        "model"
      ],
      "execution_count": null,
      "outputs": [
        {
          "output_type": "execute_result",
          "data": {
            "text/plain": [
              "Model(\n",
              "  (fc1): Linear(in_features=784, out_features=50, bias=True)\n",
              "  (relu1): ReLU()\n",
              "  (fc2): Linear(in_features=50, out_features=100, bias=True)\n",
              "  (relu2): ReLU()\n",
              "  (fc3): Linear(in_features=100, out_features=10, bias=True)\n",
              ")"
            ]
          },
          "metadata": {
            "tags": []
          },
          "execution_count": 43
        }
      ]
    },
    {
      "cell_type": "code",
      "metadata": {
        "ExecuteTime": {
          "end_time": "2020-08-15T12:22:11.345809Z",
          "start_time": "2020-08-15T12:22:11.332809Z"
        },
        "hidden": true,
        "id": "BzqJbguckUzv",
        "colab": {
          "base_uri": "https://localhost:8080/"
        },
        "outputId": "7355990a-22da-45c4-e714-85a769b8a12b"
      },
      "source": [
        "model.fc1"
      ],
      "execution_count": null,
      "outputs": [
        {
          "output_type": "execute_result",
          "data": {
            "text/plain": [
              "Linear(in_features=784, out_features=50, bias=True)"
            ]
          },
          "metadata": {
            "tags": []
          },
          "execution_count": 44
        }
      ]
    },
    {
      "cell_type": "markdown",
      "metadata": {
        "hidden": true,
        "id": "HpdubmtXkUzw"
      },
      "source": [
        "También podemos acceder directamente a los tensores que contienen los parámetros con las propiedades adecuadas"
      ]
    },
    {
      "cell_type": "code",
      "metadata": {
        "ExecuteTime": {
          "end_time": "2020-08-15T12:22:11.360809Z",
          "start_time": "2020-08-15T12:22:11.346809Z"
        },
        "hidden": true,
        "id": "lzcgFT5NkUzw",
        "colab": {
          "base_uri": "https://localhost:8080/"
        },
        "outputId": "7501c753-4064-49c3-a8e7-5971d6b665fa"
      },
      "source": [
        "model.fc1.weight"
      ],
      "execution_count": null,
      "outputs": [
        {
          "output_type": "execute_result",
          "data": {
            "text/plain": [
              "Parameter containing:\n",
              "tensor([[-0.0318,  0.0348,  0.0067,  ..., -0.0189, -0.0166,  0.0245],\n",
              "        [ 0.0069,  0.0238,  0.0217,  ...,  0.0002,  0.0254,  0.0313],\n",
              "        [ 0.0177, -0.0152, -0.0256,  ..., -0.0098,  0.0230,  0.0356],\n",
              "        ...,\n",
              "        [-0.0115, -0.0255, -0.0011,  ..., -0.0235, -0.0186,  0.0217],\n",
              "        [ 0.0087,  0.0252, -0.0192,  ..., -0.0073,  0.0108, -0.0010],\n",
              "        [ 0.0024, -0.0287, -0.0208,  ...,  0.0235,  0.0045, -0.0122]],\n",
              "       requires_grad=True)"
            ]
          },
          "metadata": {
            "tags": []
          },
          "execution_count": 45
        }
      ]
    },
    {
      "cell_type": "code",
      "metadata": {
        "ExecuteTime": {
          "end_time": "2020-08-15T12:22:11.375809Z",
          "start_time": "2020-08-15T12:22:11.361809Z"
        },
        "hidden": true,
        "id": "x8HjCl4_kUzw",
        "colab": {
          "base_uri": "https://localhost:8080/"
        },
        "outputId": "400d846c-b8bd-494e-c237-f39c1e07fce3"
      },
      "source": [
        "model.fc1.bias"
      ],
      "execution_count": null,
      "outputs": [
        {
          "output_type": "execute_result",
          "data": {
            "text/plain": [
              "Parameter containing:\n",
              "tensor([-4.8222e-03, -1.3689e-02,  2.1885e-02, -1.3090e-03, -3.2483e-02,\n",
              "        -3.5488e-02,  3.6206e-03, -5.6117e-04, -2.2836e-02,  8.2669e-03,\n",
              "         2.7917e-02, -1.0974e-02,  1.9112e-02, -2.3528e-02, -1.1465e-02,\n",
              "        -2.1191e-02, -8.1123e-03, -1.9700e-02,  1.6371e-02,  3.0902e-02,\n",
              "        -1.6740e-02,  2.6899e-02, -1.8657e-02, -2.5458e-02, -1.9838e-02,\n",
              "        -8.5446e-03,  2.2225e-02, -2.6362e-03, -3.2634e-02,  2.9177e-02,\n",
              "         6.9153e-03, -1.2329e-02, -1.0353e-02, -3.1109e-02, -3.4727e-02,\n",
              "         7.8452e-03, -1.8916e-02, -6.5080e-03,  1.1855e-02,  1.6306e-02,\n",
              "         6.0282e-05, -6.1625e-03, -3.1931e-02, -3.3686e-02,  1.5443e-02,\n",
              "         2.5583e-02, -2.8966e-02, -7.9172e-03, -1.3064e-02,  3.0768e-02],\n",
              "       requires_grad=True)"
            ]
          },
          "metadata": {
            "tags": []
          },
          "execution_count": 46
        }
      ]
    },
    {
      "cell_type": "markdown",
      "metadata": {
        "hidden": true,
        "id": "7uMWQBJGkUzw"
      },
      "source": [
        "Es posible sobreescribir una capa de la siguiente manera"
      ]
    },
    {
      "cell_type": "code",
      "metadata": {
        "ExecuteTime": {
          "end_time": "2020-08-15T12:22:11.391810Z",
          "start_time": "2020-08-15T12:22:11.376809Z"
        },
        "hidden": true,
        "id": "q1oNY3lLkUzw",
        "colab": {
          "base_uri": "https://localhost:8080/"
        },
        "outputId": "2fb8c82c-d06f-4b7d-fa04-a8d09de3db60"
      },
      "source": [
        "model.fc1 = torch.nn.Linear(784, 100)\n",
        "model.fc2 = torch.nn.Linear(100, 100)\n",
        "\n",
        "model"
      ],
      "execution_count": null,
      "outputs": [
        {
          "output_type": "execute_result",
          "data": {
            "text/plain": [
              "Model(\n",
              "  (fc1): Linear(in_features=784, out_features=100, bias=True)\n",
              "  (relu1): ReLU()\n",
              "  (fc2): Linear(in_features=100, out_features=100, bias=True)\n",
              "  (relu2): ReLU()\n",
              "  (fc3): Linear(in_features=100, out_features=10, bias=True)\n",
              ")"
            ]
          },
          "metadata": {
            "tags": []
          },
          "execution_count": 49
        }
      ]
    },
    {
      "cell_type": "markdown",
      "metadata": {
        "hidden": true,
        "id": "0FToyZ28kUzw"
      },
      "source": [
        "Ahora, la capa final de nuestra red tiene solo una salida. Esta nueva capa ha sido inicializada de manera aleatoria, por lo que esta nueva red no nos va a servir de mucho. Sin embargo, podríamos volver a entrenar esta red en otro problema en el que solo necesitemos una salida aprovechando los pesos que ya hemos entrenado anteriormente con el dataset MNIST. Esto es la base del *transfer learning*, una técnica que utilizaremos muchísimo más adelante y la cual explicaremos en detalle.\n",
        "\n",
        "A continuación encontrarás varios trucos a la hora de crear redes neuronales a partir de otras que te pueden resultar útiles."
      ]
    },
    {
      "cell_type": "code",
      "metadata": {
        "ExecuteTime": {
          "end_time": "2020-08-15T12:22:11.406809Z",
          "start_time": "2020-08-15T12:22:11.393812Z"
        },
        "hidden": true,
        "id": "k5blCayNkUzw",
        "colab": {
          "base_uri": "https://localhost:8080/"
        },
        "outputId": "8dd3cbf2-e5d3-42b5-de83-c8121a594cc0"
      },
      "source": [
        "# obtener una lista con las capas de una red\n",
        "\n",
        "list(model.children())"
      ],
      "execution_count": null,
      "outputs": [
        {
          "output_type": "execute_result",
          "data": {
            "text/plain": [
              "[Linear(in_features=784, out_features=100, bias=True),\n",
              " ReLU(),\n",
              " Linear(in_features=100, out_features=100, bias=True),\n",
              " ReLU(),\n",
              " Linear(in_features=100, out_features=10, bias=True)]"
            ]
          },
          "metadata": {
            "tags": []
          },
          "execution_count": 50
        }
      ]
    },
    {
      "cell_type": "code",
      "metadata": {
        "ExecuteTime": {
          "end_time": "2020-08-15T12:22:11.422810Z",
          "start_time": "2020-08-15T12:22:11.408810Z"
        },
        "hidden": true,
        "id": "3g35et1nkUzw",
        "colab": {
          "base_uri": "https://localhost:8080/"
        },
        "outputId": "72deefc0-bf9e-4ea5-f170-a11229bcab0b"
      },
      "source": [
        "# crear nueva red a partir de la lista (excluyendo las útlimas dos capa)\n",
        "\n",
        "new_model = torch.nn.Sequential(*list(model.children())[:-2])\n",
        "new_model"
      ],
      "execution_count": null,
      "outputs": [
        {
          "output_type": "execute_result",
          "data": {
            "text/plain": [
              "Sequential(\n",
              "  (0): Linear(in_features=784, out_features=100, bias=True)\n",
              "  (1): ReLU()\n",
              "  (2): Linear(in_features=100, out_features=100, bias=True)\n",
              ")"
            ]
          },
          "metadata": {
            "tags": []
          },
          "execution_count": 51
        }
      ]
    },
    {
      "cell_type": "code",
      "metadata": {
        "ExecuteTime": {
          "end_time": "2020-08-15T12:22:11.438809Z",
          "start_time": "2020-08-15T12:22:11.424811Z"
        },
        "hidden": true,
        "id": "vZELGKKWkUzw",
        "colab": {
          "base_uri": "https://localhost:8080/"
        },
        "outputId": "d30787ce-d766-4638-b959-7ff5fdc6a467"
      },
      "source": [
        "# crear nueva red a partir de la lista (excluyendo las útlima capa)\n",
        "\n",
        "new_model = torch.nn.ModuleList(list(model.children())[:-1])\n",
        "new_model"
      ],
      "execution_count": null,
      "outputs": [
        {
          "output_type": "execute_result",
          "data": {
            "text/plain": [
              "ModuleList(\n",
              "  (0): Linear(in_features=784, out_features=100, bias=True)\n",
              "  (1): ReLU()\n",
              "  (2): Linear(in_features=100, out_features=100, bias=True)\n",
              "  (3): ReLU()\n",
              ")"
            ]
          },
          "metadata": {
            "tags": []
          },
          "execution_count": 52
        }
      ]
    },
    {
      "cell_type": "markdown",
      "metadata": {
        "id": "CBQN4YvakUzx"
      },
      "source": [
        "## Resumen"
      ]
    },
    {
      "cell_type": "markdown",
      "metadata": {
        "id": "HzssQ3UnkUzx"
      },
      "source": [
        "En este post hemos visto la funcionalidad que `Pytorch` nos ofrece a la hora de definir y entrenar nuestras `redes neuronales`. El paquete `torch.nn` contiene todo lo necesario para diseñar nuestros modelos, ya sea de manera secuencial o con una clase *custom* para arquitecturas más complicadas. También nos da muchas funciones de pérdida que podemos usar directamente para entrenar las redes. Te recomiendo encarecidamente que le eches un vistazo a la [documentación](https://pytorch.org/docs/stable/nn.html) par hacerte una idea de todo lo que puedes hacer. También hemos visto como el paquete `torch.optim` nos oferece algoritmos de optimización que también nos hacen la vida más fácil a la hora de entrenar nuestras redes. "
      ]
    }
  ]
}